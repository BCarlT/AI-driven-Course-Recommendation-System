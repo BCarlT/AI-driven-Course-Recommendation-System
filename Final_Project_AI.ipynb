{
  "cells": [
    {
      "cell_type": "code",
      "execution_count": null,
      "metadata": {
        "id": "pBHmACQ3DEQ2"
      },
      "outputs": [],
      "source": [
        "import pandas as pd\n",
        "import numpy as np\n",
        "import random\n",
        "from sklearn.model_selection import train_test_split\n",
        "from sklearn.preprocessing import LabelEncoder\n",
        "from tensorflow.keras.preprocessing.sequence import pad_sequences\n",
        "from tensorflow.keras.models import Sequential\n",
        "from tensorflow.keras.layers import Dense, Embedding, LSTM, Dropout\n",
        "from tensorflow.keras.optimizers import Adam\n",
        "from keras.utils import to_categorical\n",
        "from tensorflow.keras.preprocessing.text import Tokenizer\n",
        "from keras.regularizers import l2"
      ]
    },
    {
      "cell_type": "markdown",
      "metadata": {
        "id": "d1N_DK7WXsFa"
      },
      "source": [
        "Prepare the Dataset"
      ]
    },
    {
      "cell_type": "code",
      "execution_count": null,
      "metadata": {
        "id": "rG9Optzy1W_0"
      },
      "outputs": [],
      "source": [
        "from google.colab import drive"
      ]
    },
    {
      "cell_type": "code",
      "execution_count": null,
      "metadata": {
        "colab": {
          "base_uri": "https://localhost:8080/"
        },
        "id": "8sk9MmC81ZNk",
        "outputId": "a2fa84ff-4f3b-4050-b041-e5a87ff2f33c"
      },
      "outputs": [
        {
          "output_type": "stream",
          "name": "stdout",
          "text": [
            "Drive already mounted at /content/gdrive; to attempt to forcibly remount, call drive.mount(\"/content/gdrive\", force_remount=True).\n"
          ]
        }
      ],
      "source": [
        "drive.mount('/content/gdrive')"
      ]
    },
    {
      "cell_type": "code",
      "execution_count": null,
      "metadata": {
        "id": "-WJ8-1ZB1cM_"
      },
      "outputs": [],
      "source": [
        "filepath_2023 = \"/content/gdrive/MyDrive/Colab Notebooks/data/2023 S_S COURSE.xlsx\"\n",
        "filepath_2022 = \"/content/gdrive/MyDrive/Colab Notebooks/data/2022 F_S COURSE.xlsx\""
      ]
    },
    {
      "cell_type": "code",
      "execution_count": null,
      "metadata": {
        "id": "s90YhwAe2Bjx"
      },
      "outputs": [],
      "source": [
        "df = pd.read_excel(filepath_2023)\n",
        "df1 = pd.read_excel(filepath_2022)"
      ]
    },
    {
      "cell_type": "code",
      "execution_count": null,
      "metadata": {
        "colab": {
          "base_uri": "https://localhost:8080/",
          "height": 424
        },
        "id": "dQF0EMx62ywh",
        "outputId": "2d7c9efa-9c37-4df9-fd5d-3a523735b27e"
      },
      "outputs": [
        {
          "output_type": "execute_result",
          "data": {
            "text/plain": [
              "                                           Course Name  \\\n",
              "0                                    Political science   \n",
              "1                                    Political science   \n",
              "2                                    Political science   \n",
              "3                                            Economics   \n",
              "4                                            Economics   \n",
              "...                                                ...   \n",
              "1537                  Cultural Creativity Adding Value   \n",
              "1538                                Computer Animation   \n",
              "1539  Interaction Technologies Research and Discussion   \n",
              "1540       Artificial Intelligence and Digital Content   \n",
              "1541               Game Engine Application Development   \n",
              "\n",
              "                                      Unit   Job Label  \n",
              "0                        Political Science    Diplomat  \n",
              "1                        Political Science      Lawyer  \n",
              "2                        Political Science  Politician  \n",
              "3                                Economics  Accountant  \n",
              "4                                Economics  Bank Staff  \n",
              "...                                    ...         ...  \n",
              "1537  Digital Content and Technologies/B/4    Engineer  \n",
              "1538  Digital Content and Technologies/B/4    Engineer  \n",
              "1539  Digital Content and Technologies/B/4    Engineer  \n",
              "1540  Digital Content and Technologies/B/4    Engineer  \n",
              "1541  Digital Content and Technologies/B/4    Engineer  \n",
              "\n",
              "[1542 rows x 3 columns]"
            ],
            "text/html": [
              "\n",
              "  <div id=\"df-7606c72d-85f3-4e29-b78a-816a81c841ba\">\n",
              "    <div class=\"colab-df-container\">\n",
              "      <div>\n",
              "<style scoped>\n",
              "    .dataframe tbody tr th:only-of-type {\n",
              "        vertical-align: middle;\n",
              "    }\n",
              "\n",
              "    .dataframe tbody tr th {\n",
              "        vertical-align: top;\n",
              "    }\n",
              "\n",
              "    .dataframe thead th {\n",
              "        text-align: right;\n",
              "    }\n",
              "</style>\n",
              "<table border=\"1\" class=\"dataframe\">\n",
              "  <thead>\n",
              "    <tr style=\"text-align: right;\">\n",
              "      <th></th>\n",
              "      <th>Course Name</th>\n",
              "      <th>Unit</th>\n",
              "      <th>Job Label</th>\n",
              "    </tr>\n",
              "  </thead>\n",
              "  <tbody>\n",
              "    <tr>\n",
              "      <th>0</th>\n",
              "      <td>Political science</td>\n",
              "      <td>Political Science</td>\n",
              "      <td>Diplomat</td>\n",
              "    </tr>\n",
              "    <tr>\n",
              "      <th>1</th>\n",
              "      <td>Political science</td>\n",
              "      <td>Political Science</td>\n",
              "      <td>Lawyer</td>\n",
              "    </tr>\n",
              "    <tr>\n",
              "      <th>2</th>\n",
              "      <td>Political science</td>\n",
              "      <td>Political Science</td>\n",
              "      <td>Politician</td>\n",
              "    </tr>\n",
              "    <tr>\n",
              "      <th>3</th>\n",
              "      <td>Economics</td>\n",
              "      <td>Economics</td>\n",
              "      <td>Accountant</td>\n",
              "    </tr>\n",
              "    <tr>\n",
              "      <th>4</th>\n",
              "      <td>Economics</td>\n",
              "      <td>Economics</td>\n",
              "      <td>Bank Staff</td>\n",
              "    </tr>\n",
              "    <tr>\n",
              "      <th>...</th>\n",
              "      <td>...</td>\n",
              "      <td>...</td>\n",
              "      <td>...</td>\n",
              "    </tr>\n",
              "    <tr>\n",
              "      <th>1537</th>\n",
              "      <td>Cultural Creativity Adding Value</td>\n",
              "      <td>Digital Content and Technologies/B/4</td>\n",
              "      <td>Engineer</td>\n",
              "    </tr>\n",
              "    <tr>\n",
              "      <th>1538</th>\n",
              "      <td>Computer Animation</td>\n",
              "      <td>Digital Content and Technologies/B/4</td>\n",
              "      <td>Engineer</td>\n",
              "    </tr>\n",
              "    <tr>\n",
              "      <th>1539</th>\n",
              "      <td>Interaction Technologies Research and Discussion</td>\n",
              "      <td>Digital Content and Technologies/B/4</td>\n",
              "      <td>Engineer</td>\n",
              "    </tr>\n",
              "    <tr>\n",
              "      <th>1540</th>\n",
              "      <td>Artificial Intelligence and Digital Content</td>\n",
              "      <td>Digital Content and Technologies/B/4</td>\n",
              "      <td>Engineer</td>\n",
              "    </tr>\n",
              "    <tr>\n",
              "      <th>1541</th>\n",
              "      <td>Game Engine Application Development</td>\n",
              "      <td>Digital Content and Technologies/B/4</td>\n",
              "      <td>Engineer</td>\n",
              "    </tr>\n",
              "  </tbody>\n",
              "</table>\n",
              "<p>1542 rows × 3 columns</p>\n",
              "</div>\n",
              "      <button class=\"colab-df-convert\" onclick=\"convertToInteractive('df-7606c72d-85f3-4e29-b78a-816a81c841ba')\"\n",
              "              title=\"Convert this dataframe to an interactive table.\"\n",
              "              style=\"display:none;\">\n",
              "        \n",
              "  <svg xmlns=\"http://www.w3.org/2000/svg\" height=\"24px\"viewBox=\"0 0 24 24\"\n",
              "       width=\"24px\">\n",
              "    <path d=\"M0 0h24v24H0V0z\" fill=\"none\"/>\n",
              "    <path d=\"M18.56 5.44l.94 2.06.94-2.06 2.06-.94-2.06-.94-.94-2.06-.94 2.06-2.06.94zm-11 1L8.5 8.5l.94-2.06 2.06-.94-2.06-.94L8.5 2.5l-.94 2.06-2.06.94zm10 10l.94 2.06.94-2.06 2.06-.94-2.06-.94-.94-2.06-.94 2.06-2.06.94z\"/><path d=\"M17.41 7.96l-1.37-1.37c-.4-.4-.92-.59-1.43-.59-.52 0-1.04.2-1.43.59L10.3 9.45l-7.72 7.72c-.78.78-.78 2.05 0 2.83L4 21.41c.39.39.9.59 1.41.59.51 0 1.02-.2 1.41-.59l7.78-7.78 2.81-2.81c.8-.78.8-2.07 0-2.86zM5.41 20L4 18.59l7.72-7.72 1.47 1.35L5.41 20z\"/>\n",
              "  </svg>\n",
              "      </button>\n",
              "      \n",
              "  <style>\n",
              "    .colab-df-container {\n",
              "      display:flex;\n",
              "      flex-wrap:wrap;\n",
              "      gap: 12px;\n",
              "    }\n",
              "\n",
              "    .colab-df-convert {\n",
              "      background-color: #E8F0FE;\n",
              "      border: none;\n",
              "      border-radius: 50%;\n",
              "      cursor: pointer;\n",
              "      display: none;\n",
              "      fill: #1967D2;\n",
              "      height: 32px;\n",
              "      padding: 0 0 0 0;\n",
              "      width: 32px;\n",
              "    }\n",
              "\n",
              "    .colab-df-convert:hover {\n",
              "      background-color: #E2EBFA;\n",
              "      box-shadow: 0px 1px 2px rgba(60, 64, 67, 0.3), 0px 1px 3px 1px rgba(60, 64, 67, 0.15);\n",
              "      fill: #174EA6;\n",
              "    }\n",
              "\n",
              "    [theme=dark] .colab-df-convert {\n",
              "      background-color: #3B4455;\n",
              "      fill: #D2E3FC;\n",
              "    }\n",
              "\n",
              "    [theme=dark] .colab-df-convert:hover {\n",
              "      background-color: #434B5C;\n",
              "      box-shadow: 0px 1px 3px 1px rgba(0, 0, 0, 0.15);\n",
              "      filter: drop-shadow(0px 1px 2px rgba(0, 0, 0, 0.3));\n",
              "      fill: #FFFFFF;\n",
              "    }\n",
              "  </style>\n",
              "\n",
              "      <script>\n",
              "        const buttonEl =\n",
              "          document.querySelector('#df-7606c72d-85f3-4e29-b78a-816a81c841ba button.colab-df-convert');\n",
              "        buttonEl.style.display =\n",
              "          google.colab.kernel.accessAllowed ? 'block' : 'none';\n",
              "\n",
              "        async function convertToInteractive(key) {\n",
              "          const element = document.querySelector('#df-7606c72d-85f3-4e29-b78a-816a81c841ba');\n",
              "          const dataTable =\n",
              "            await google.colab.kernel.invokeFunction('convertToInteractive',\n",
              "                                                     [key], {});\n",
              "          if (!dataTable) return;\n",
              "\n",
              "          const docLinkHtml = 'Like what you see? Visit the ' +\n",
              "            '<a target=\"_blank\" href=https://colab.research.google.com/notebooks/data_table.ipynb>data table notebook</a>'\n",
              "            + ' to learn more about interactive tables.';\n",
              "          element.innerHTML = '';\n",
              "          dataTable['output_type'] = 'display_data';\n",
              "          await google.colab.output.renderOutput(dataTable, element);\n",
              "          const docLink = document.createElement('div');\n",
              "          docLink.innerHTML = docLinkHtml;\n",
              "          element.appendChild(docLink);\n",
              "        }\n",
              "      </script>\n",
              "    </div>\n",
              "  </div>\n",
              "  "
            ]
          },
          "metadata": {},
          "execution_count": 6
        }
      ],
      "source": [
        "df"
      ]
    },
    {
      "cell_type": "code",
      "execution_count": null,
      "metadata": {
        "colab": {
          "base_uri": "https://localhost:8080/",
          "height": 424
        },
        "id": "_jgKxc25HJWJ",
        "outputId": "2042f767-f3fa-4997-ad45-6c6a22d6a221"
      },
      "outputs": [
        {
          "output_type": "execute_result",
          "data": {
            "text/plain": [
              "                                            Course Name  \\\n",
              "0                                        Macroeconomics   \n",
              "1                                        Macroeconomics   \n",
              "2                                             Economics   \n",
              "3                                             Economics   \n",
              "4                                        Public Finance   \n",
              "...                                                 ...   \n",
              "1443               Contemporary Aesthetics and Curation   \n",
              "1444  Special Projects on Digital Content and Techno...   \n",
              "1445            Video Pos-production and Visual Effects   \n",
              "1446                 Blockchain Application Development   \n",
              "1447     Internet of Things Technology and Applications   \n",
              "\n",
              "                                      Unit             Job Label  \n",
              "0                                Economics             Economist  \n",
              "1                                Economics  Supply Chain Manager  \n",
              "2                                Economics             Economist  \n",
              "3                                Economics  Supply Chain Manager  \n",
              "4                           Public Finance            Bank staff  \n",
              "...                                    ...                   ...  \n",
              "1443  Digital Content and Technologies/B/4              Engineer  \n",
              "1444  Digital Content and Technologies/B/4              Engineer  \n",
              "1445  Digital Content and Technologies/B/4              Engineer  \n",
              "1446  Digital Content and Technologies/B/4              Engineer  \n",
              "1447  Digital Content and Technologies/B/4              Engineer  \n",
              "\n",
              "[1448 rows x 3 columns]"
            ],
            "text/html": [
              "\n",
              "  <div id=\"df-a8779d0b-420a-45e0-b0fe-07c892beb3c8\">\n",
              "    <div class=\"colab-df-container\">\n",
              "      <div>\n",
              "<style scoped>\n",
              "    .dataframe tbody tr th:only-of-type {\n",
              "        vertical-align: middle;\n",
              "    }\n",
              "\n",
              "    .dataframe tbody tr th {\n",
              "        vertical-align: top;\n",
              "    }\n",
              "\n",
              "    .dataframe thead th {\n",
              "        text-align: right;\n",
              "    }\n",
              "</style>\n",
              "<table border=\"1\" class=\"dataframe\">\n",
              "  <thead>\n",
              "    <tr style=\"text-align: right;\">\n",
              "      <th></th>\n",
              "      <th>Course Name</th>\n",
              "      <th>Unit</th>\n",
              "      <th>Job Label</th>\n",
              "    </tr>\n",
              "  </thead>\n",
              "  <tbody>\n",
              "    <tr>\n",
              "      <th>0</th>\n",
              "      <td>Macroeconomics</td>\n",
              "      <td>Economics</td>\n",
              "      <td>Economist</td>\n",
              "    </tr>\n",
              "    <tr>\n",
              "      <th>1</th>\n",
              "      <td>Macroeconomics</td>\n",
              "      <td>Economics</td>\n",
              "      <td>Supply Chain Manager</td>\n",
              "    </tr>\n",
              "    <tr>\n",
              "      <th>2</th>\n",
              "      <td>Economics</td>\n",
              "      <td>Economics</td>\n",
              "      <td>Economist</td>\n",
              "    </tr>\n",
              "    <tr>\n",
              "      <th>3</th>\n",
              "      <td>Economics</td>\n",
              "      <td>Economics</td>\n",
              "      <td>Supply Chain Manager</td>\n",
              "    </tr>\n",
              "    <tr>\n",
              "      <th>4</th>\n",
              "      <td>Public Finance</td>\n",
              "      <td>Public Finance</td>\n",
              "      <td>Bank staff</td>\n",
              "    </tr>\n",
              "    <tr>\n",
              "      <th>...</th>\n",
              "      <td>...</td>\n",
              "      <td>...</td>\n",
              "      <td>...</td>\n",
              "    </tr>\n",
              "    <tr>\n",
              "      <th>1443</th>\n",
              "      <td>Contemporary Aesthetics and Curation</td>\n",
              "      <td>Digital Content and Technologies/B/4</td>\n",
              "      <td>Engineer</td>\n",
              "    </tr>\n",
              "    <tr>\n",
              "      <th>1444</th>\n",
              "      <td>Special Projects on Digital Content and Techno...</td>\n",
              "      <td>Digital Content and Technologies/B/4</td>\n",
              "      <td>Engineer</td>\n",
              "    </tr>\n",
              "    <tr>\n",
              "      <th>1445</th>\n",
              "      <td>Video Pos-production and Visual Effects</td>\n",
              "      <td>Digital Content and Technologies/B/4</td>\n",
              "      <td>Engineer</td>\n",
              "    </tr>\n",
              "    <tr>\n",
              "      <th>1446</th>\n",
              "      <td>Blockchain Application Development</td>\n",
              "      <td>Digital Content and Technologies/B/4</td>\n",
              "      <td>Engineer</td>\n",
              "    </tr>\n",
              "    <tr>\n",
              "      <th>1447</th>\n",
              "      <td>Internet of Things Technology and Applications</td>\n",
              "      <td>Digital Content and Technologies/B/4</td>\n",
              "      <td>Engineer</td>\n",
              "    </tr>\n",
              "  </tbody>\n",
              "</table>\n",
              "<p>1448 rows × 3 columns</p>\n",
              "</div>\n",
              "      <button class=\"colab-df-convert\" onclick=\"convertToInteractive('df-a8779d0b-420a-45e0-b0fe-07c892beb3c8')\"\n",
              "              title=\"Convert this dataframe to an interactive table.\"\n",
              "              style=\"display:none;\">\n",
              "        \n",
              "  <svg xmlns=\"http://www.w3.org/2000/svg\" height=\"24px\"viewBox=\"0 0 24 24\"\n",
              "       width=\"24px\">\n",
              "    <path d=\"M0 0h24v24H0V0z\" fill=\"none\"/>\n",
              "    <path d=\"M18.56 5.44l.94 2.06.94-2.06 2.06-.94-2.06-.94-.94-2.06-.94 2.06-2.06.94zm-11 1L8.5 8.5l.94-2.06 2.06-.94-2.06-.94L8.5 2.5l-.94 2.06-2.06.94zm10 10l.94 2.06.94-2.06 2.06-.94-2.06-.94-.94-2.06-.94 2.06-2.06.94z\"/><path d=\"M17.41 7.96l-1.37-1.37c-.4-.4-.92-.59-1.43-.59-.52 0-1.04.2-1.43.59L10.3 9.45l-7.72 7.72c-.78.78-.78 2.05 0 2.83L4 21.41c.39.39.9.59 1.41.59.51 0 1.02-.2 1.41-.59l7.78-7.78 2.81-2.81c.8-.78.8-2.07 0-2.86zM5.41 20L4 18.59l7.72-7.72 1.47 1.35L5.41 20z\"/>\n",
              "  </svg>\n",
              "      </button>\n",
              "      \n",
              "  <style>\n",
              "    .colab-df-container {\n",
              "      display:flex;\n",
              "      flex-wrap:wrap;\n",
              "      gap: 12px;\n",
              "    }\n",
              "\n",
              "    .colab-df-convert {\n",
              "      background-color: #E8F0FE;\n",
              "      border: none;\n",
              "      border-radius: 50%;\n",
              "      cursor: pointer;\n",
              "      display: none;\n",
              "      fill: #1967D2;\n",
              "      height: 32px;\n",
              "      padding: 0 0 0 0;\n",
              "      width: 32px;\n",
              "    }\n",
              "\n",
              "    .colab-df-convert:hover {\n",
              "      background-color: #E2EBFA;\n",
              "      box-shadow: 0px 1px 2px rgba(60, 64, 67, 0.3), 0px 1px 3px 1px rgba(60, 64, 67, 0.15);\n",
              "      fill: #174EA6;\n",
              "    }\n",
              "\n",
              "    [theme=dark] .colab-df-convert {\n",
              "      background-color: #3B4455;\n",
              "      fill: #D2E3FC;\n",
              "    }\n",
              "\n",
              "    [theme=dark] .colab-df-convert:hover {\n",
              "      background-color: #434B5C;\n",
              "      box-shadow: 0px 1px 3px 1px rgba(0, 0, 0, 0.15);\n",
              "      filter: drop-shadow(0px 1px 2px rgba(0, 0, 0, 0.3));\n",
              "      fill: #FFFFFF;\n",
              "    }\n",
              "  </style>\n",
              "\n",
              "      <script>\n",
              "        const buttonEl =\n",
              "          document.querySelector('#df-a8779d0b-420a-45e0-b0fe-07c892beb3c8 button.colab-df-convert');\n",
              "        buttonEl.style.display =\n",
              "          google.colab.kernel.accessAllowed ? 'block' : 'none';\n",
              "\n",
              "        async function convertToInteractive(key) {\n",
              "          const element = document.querySelector('#df-a8779d0b-420a-45e0-b0fe-07c892beb3c8');\n",
              "          const dataTable =\n",
              "            await google.colab.kernel.invokeFunction('convertToInteractive',\n",
              "                                                     [key], {});\n",
              "          if (!dataTable) return;\n",
              "\n",
              "          const docLinkHtml = 'Like what you see? Visit the ' +\n",
              "            '<a target=\"_blank\" href=https://colab.research.google.com/notebooks/data_table.ipynb>data table notebook</a>'\n",
              "            + ' to learn more about interactive tables.';\n",
              "          element.innerHTML = '';\n",
              "          dataTable['output_type'] = 'display_data';\n",
              "          await google.colab.output.renderOutput(dataTable, element);\n",
              "          const docLink = document.createElement('div');\n",
              "          docLink.innerHTML = docLinkHtml;\n",
              "          element.appendChild(docLink);\n",
              "        }\n",
              "      </script>\n",
              "    </div>\n",
              "  </div>\n",
              "  "
            ]
          },
          "metadata": {},
          "execution_count": 7
        }
      ],
      "source": [
        "df1"
      ]
    },
    {
      "cell_type": "code",
      "execution_count": null,
      "metadata": {
        "id": "AsKEU2ew7QpR"
      },
      "outputs": [],
      "source": [
        "df_combined = pd.concat([df[['Job Label', 'Course Name', 'Unit']], df1[['Job Label', 'Course Name', 'Unit']]])"
      ]
    },
    {
      "cell_type": "code",
      "execution_count": null,
      "metadata": {
        "id": "YsvX_f5qDa62"
      },
      "outputs": [],
      "source": [
        "df_combined['Course Name'] = df_combined['Course Name'].str.lower()\n",
        "df_combined['Job Label'] = df_combined['Job Label'].str.lower()"
      ]
    },
    {
      "cell_type": "code",
      "execution_count": null,
      "metadata": {
        "colab": {
          "base_uri": "https://localhost:8080/",
          "height": 424
        },
        "id": "WzvQ5cHTf59r",
        "outputId": "034a6b81-2553-4938-96ae-226ea27076be"
      },
      "outputs": [
        {
          "output_type": "execute_result",
          "data": {
            "text/plain": [
              "       Job Label                                        Course Name  \\\n",
              "0       diplomat                                  political science   \n",
              "1         lawyer                                  political science   \n",
              "2     politician                                  political science   \n",
              "3     accountant                                          economics   \n",
              "4     bank staff                                          economics   \n",
              "...          ...                                                ...   \n",
              "1443    engineer               contemporary aesthetics and curation   \n",
              "1444    engineer  special projects on digital content and techno...   \n",
              "1445    engineer            video pos-production and visual effects   \n",
              "1446    engineer                 blockchain application development   \n",
              "1447    engineer     internet of things technology and applications   \n",
              "\n",
              "                                      Unit  \n",
              "0                        Political Science  \n",
              "1                        Political Science  \n",
              "2                        Political Science  \n",
              "3                                Economics  \n",
              "4                                Economics  \n",
              "...                                    ...  \n",
              "1443  Digital Content and Technologies/B/4  \n",
              "1444  Digital Content and Technologies/B/4  \n",
              "1445  Digital Content and Technologies/B/4  \n",
              "1446  Digital Content and Technologies/B/4  \n",
              "1447  Digital Content and Technologies/B/4  \n",
              "\n",
              "[2990 rows x 3 columns]"
            ],
            "text/html": [
              "\n",
              "  <div id=\"df-cbf8196e-9b51-4f03-ba89-a894b32d69a8\">\n",
              "    <div class=\"colab-df-container\">\n",
              "      <div>\n",
              "<style scoped>\n",
              "    .dataframe tbody tr th:only-of-type {\n",
              "        vertical-align: middle;\n",
              "    }\n",
              "\n",
              "    .dataframe tbody tr th {\n",
              "        vertical-align: top;\n",
              "    }\n",
              "\n",
              "    .dataframe thead th {\n",
              "        text-align: right;\n",
              "    }\n",
              "</style>\n",
              "<table border=\"1\" class=\"dataframe\">\n",
              "  <thead>\n",
              "    <tr style=\"text-align: right;\">\n",
              "      <th></th>\n",
              "      <th>Job Label</th>\n",
              "      <th>Course Name</th>\n",
              "      <th>Unit</th>\n",
              "    </tr>\n",
              "  </thead>\n",
              "  <tbody>\n",
              "    <tr>\n",
              "      <th>0</th>\n",
              "      <td>diplomat</td>\n",
              "      <td>political science</td>\n",
              "      <td>Political Science</td>\n",
              "    </tr>\n",
              "    <tr>\n",
              "      <th>1</th>\n",
              "      <td>lawyer</td>\n",
              "      <td>political science</td>\n",
              "      <td>Political Science</td>\n",
              "    </tr>\n",
              "    <tr>\n",
              "      <th>2</th>\n",
              "      <td>politician</td>\n",
              "      <td>political science</td>\n",
              "      <td>Political Science</td>\n",
              "    </tr>\n",
              "    <tr>\n",
              "      <th>3</th>\n",
              "      <td>accountant</td>\n",
              "      <td>economics</td>\n",
              "      <td>Economics</td>\n",
              "    </tr>\n",
              "    <tr>\n",
              "      <th>4</th>\n",
              "      <td>bank staff</td>\n",
              "      <td>economics</td>\n",
              "      <td>Economics</td>\n",
              "    </tr>\n",
              "    <tr>\n",
              "      <th>...</th>\n",
              "      <td>...</td>\n",
              "      <td>...</td>\n",
              "      <td>...</td>\n",
              "    </tr>\n",
              "    <tr>\n",
              "      <th>1443</th>\n",
              "      <td>engineer</td>\n",
              "      <td>contemporary aesthetics and curation</td>\n",
              "      <td>Digital Content and Technologies/B/4</td>\n",
              "    </tr>\n",
              "    <tr>\n",
              "      <th>1444</th>\n",
              "      <td>engineer</td>\n",
              "      <td>special projects on digital content and techno...</td>\n",
              "      <td>Digital Content and Technologies/B/4</td>\n",
              "    </tr>\n",
              "    <tr>\n",
              "      <th>1445</th>\n",
              "      <td>engineer</td>\n",
              "      <td>video pos-production and visual effects</td>\n",
              "      <td>Digital Content and Technologies/B/4</td>\n",
              "    </tr>\n",
              "    <tr>\n",
              "      <th>1446</th>\n",
              "      <td>engineer</td>\n",
              "      <td>blockchain application development</td>\n",
              "      <td>Digital Content and Technologies/B/4</td>\n",
              "    </tr>\n",
              "    <tr>\n",
              "      <th>1447</th>\n",
              "      <td>engineer</td>\n",
              "      <td>internet of things technology and applications</td>\n",
              "      <td>Digital Content and Technologies/B/4</td>\n",
              "    </tr>\n",
              "  </tbody>\n",
              "</table>\n",
              "<p>2990 rows × 3 columns</p>\n",
              "</div>\n",
              "      <button class=\"colab-df-convert\" onclick=\"convertToInteractive('df-cbf8196e-9b51-4f03-ba89-a894b32d69a8')\"\n",
              "              title=\"Convert this dataframe to an interactive table.\"\n",
              "              style=\"display:none;\">\n",
              "        \n",
              "  <svg xmlns=\"http://www.w3.org/2000/svg\" height=\"24px\"viewBox=\"0 0 24 24\"\n",
              "       width=\"24px\">\n",
              "    <path d=\"M0 0h24v24H0V0z\" fill=\"none\"/>\n",
              "    <path d=\"M18.56 5.44l.94 2.06.94-2.06 2.06-.94-2.06-.94-.94-2.06-.94 2.06-2.06.94zm-11 1L8.5 8.5l.94-2.06 2.06-.94-2.06-.94L8.5 2.5l-.94 2.06-2.06.94zm10 10l.94 2.06.94-2.06 2.06-.94-2.06-.94-.94-2.06-.94 2.06-2.06.94z\"/><path d=\"M17.41 7.96l-1.37-1.37c-.4-.4-.92-.59-1.43-.59-.52 0-1.04.2-1.43.59L10.3 9.45l-7.72 7.72c-.78.78-.78 2.05 0 2.83L4 21.41c.39.39.9.59 1.41.59.51 0 1.02-.2 1.41-.59l7.78-7.78 2.81-2.81c.8-.78.8-2.07 0-2.86zM5.41 20L4 18.59l7.72-7.72 1.47 1.35L5.41 20z\"/>\n",
              "  </svg>\n",
              "      </button>\n",
              "      \n",
              "  <style>\n",
              "    .colab-df-container {\n",
              "      display:flex;\n",
              "      flex-wrap:wrap;\n",
              "      gap: 12px;\n",
              "    }\n",
              "\n",
              "    .colab-df-convert {\n",
              "      background-color: #E8F0FE;\n",
              "      border: none;\n",
              "      border-radius: 50%;\n",
              "      cursor: pointer;\n",
              "      display: none;\n",
              "      fill: #1967D2;\n",
              "      height: 32px;\n",
              "      padding: 0 0 0 0;\n",
              "      width: 32px;\n",
              "    }\n",
              "\n",
              "    .colab-df-convert:hover {\n",
              "      background-color: #E2EBFA;\n",
              "      box-shadow: 0px 1px 2px rgba(60, 64, 67, 0.3), 0px 1px 3px 1px rgba(60, 64, 67, 0.15);\n",
              "      fill: #174EA6;\n",
              "    }\n",
              "\n",
              "    [theme=dark] .colab-df-convert {\n",
              "      background-color: #3B4455;\n",
              "      fill: #D2E3FC;\n",
              "    }\n",
              "\n",
              "    [theme=dark] .colab-df-convert:hover {\n",
              "      background-color: #434B5C;\n",
              "      box-shadow: 0px 1px 3px 1px rgba(0, 0, 0, 0.15);\n",
              "      filter: drop-shadow(0px 1px 2px rgba(0, 0, 0, 0.3));\n",
              "      fill: #FFFFFF;\n",
              "    }\n",
              "  </style>\n",
              "\n",
              "      <script>\n",
              "        const buttonEl =\n",
              "          document.querySelector('#df-cbf8196e-9b51-4f03-ba89-a894b32d69a8 button.colab-df-convert');\n",
              "        buttonEl.style.display =\n",
              "          google.colab.kernel.accessAllowed ? 'block' : 'none';\n",
              "\n",
              "        async function convertToInteractive(key) {\n",
              "          const element = document.querySelector('#df-cbf8196e-9b51-4f03-ba89-a894b32d69a8');\n",
              "          const dataTable =\n",
              "            await google.colab.kernel.invokeFunction('convertToInteractive',\n",
              "                                                     [key], {});\n",
              "          if (!dataTable) return;\n",
              "\n",
              "          const docLinkHtml = 'Like what you see? Visit the ' +\n",
              "            '<a target=\"_blank\" href=https://colab.research.google.com/notebooks/data_table.ipynb>data table notebook</a>'\n",
              "            + ' to learn more about interactive tables.';\n",
              "          element.innerHTML = '';\n",
              "          dataTable['output_type'] = 'display_data';\n",
              "          await google.colab.output.renderOutput(dataTable, element);\n",
              "          const docLink = document.createElement('div');\n",
              "          docLink.innerHTML = docLinkHtml;\n",
              "          element.appendChild(docLink);\n",
              "        }\n",
              "      </script>\n",
              "    </div>\n",
              "  </div>\n",
              "  "
            ]
          },
          "metadata": {},
          "execution_count": 10
        }
      ],
      "source": [
        "df_combined"
      ]
    },
    {
      "cell_type": "markdown",
      "metadata": {
        "id": "z_7rJMX95VF7"
      },
      "source": [
        "Data Processing"
      ]
    },
    {
      "cell_type": "code",
      "execution_count": null,
      "metadata": {
        "id": "43pLTI7dmFV6"
      },
      "outputs": [],
      "source": [
        "encoder = LabelEncoder()\n",
        "df_combined['encoded_job'] = encoder.fit_transform(df_combined['Job Label'])\n",
        "num_classes = len(encoder.classes_)"
      ]
    },
    {
      "cell_type": "code",
      "execution_count": null,
      "metadata": {
        "id": "VHElZvYe0AFl"
      },
      "outputs": [],
      "source": [
        "train_df, test_df = train_test_split(df_combined, test_size=0.2, random_state=42)"
      ]
    },
    {
      "cell_type": "code",
      "execution_count": null,
      "metadata": {
        "id": "RMaFJYnsnykV"
      },
      "outputs": [],
      "source": [
        "train_df['Course Name'] = train_df['Course Name'].astype(str)\n",
        "test_df['Course Name'] = test_df['Course Name'].astype(str)"
      ]
    },
    {
      "cell_type": "code",
      "execution_count": null,
      "metadata": {
        "id": "WzBdlDzyA7kX"
      },
      "outputs": [],
      "source": [
        "tokenizer = Tokenizer()\n",
        "tokenizer.fit_on_texts(train_df['Course Name'])\n",
        "vocab_size = len(tokenizer.word_index) + 1"
      ]
    },
    {
      "cell_type": "code",
      "execution_count": null,
      "metadata": {
        "id": "-um4Ocpu8b2H"
      },
      "outputs": [],
      "source": [
        "train_sequences = tokenizer.texts_to_sequences(train_df['Course Name'])\n",
        "test_sequences = tokenizer.texts_to_sequences(test_df['Course Name'])"
      ]
    },
    {
      "cell_type": "code",
      "execution_count": null,
      "metadata": {
        "id": "EggcALtW8uK7"
      },
      "outputs": [],
      "source": [
        "max_sequence_length = max(len(seq) for seq in train_sequences)\n",
        "train_data = pad_sequences(train_sequences, maxlen=max_sequence_length)\n",
        "test_data = pad_sequences(test_sequences, maxlen=max_sequence_length)"
      ]
    },
    {
      "cell_type": "code",
      "execution_count": null,
      "metadata": {
        "id": "5jm7jE76Bkc0"
      },
      "outputs": [],
      "source": [
        "num_features = max_sequence_length\n",
        "num_classes = len(df_combined['Course Name'].unique())"
      ]
    },
    {
      "cell_type": "code",
      "execution_count": null,
      "metadata": {
        "id": "aT5Nrul3_bCS"
      },
      "outputs": [],
      "source": [
        "num_classes = len(encoder.classes_)\n",
        "train_labels = to_categorical(train_df['encoded_job'], num_classes=num_classes)\n",
        "test_labels = to_categorical(test_df['encoded_job'], num_classes=num_classes)"
      ]
    },
    {
      "cell_type": "markdown",
      "metadata": {
        "id": "HgtLvv6d7kwM"
      },
      "source": [
        "Build DNN Model"
      ]
    },
    {
      "cell_type": "code",
      "execution_count": null,
      "metadata": {
        "colab": {
          "base_uri": "https://localhost:8080/"
        },
        "id": "tomQ2kB17i09",
        "outputId": "0c523d6c-02f6-491b-d56d-4e588e0a55e9"
      },
      "outputs": [
        {
          "output_type": "stream",
          "name": "stderr",
          "text": [
            "WARNING:tensorflow:Layer lstm will not use cuDNN kernels since it doesn't meet the criteria. It will use a generic GPU kernel as fallback when running on GPU.\n",
            "WARNING:tensorflow:Layer lstm_1 will not use cuDNN kernels since it doesn't meet the criteria. It will use a generic GPU kernel as fallback when running on GPU.\n",
            "WARNING:tensorflow:Layer lstm_2 will not use cuDNN kernels since it doesn't meet the criteria. It will use a generic GPU kernel as fallback when running on GPU.\n"
          ]
        }
      ],
      "source": [
        "model = Sequential()\n",
        "model.add(Embedding(vocab_size, 128, input_length=max_sequence_length))\n",
        "model.add(LSTM(256, dropout=0.5, recurrent_dropout=0.5, return_sequences=True, kernel_regularizer=l2(0.001), recurrent_regularizer=l2(0.001)))\n",
        "model.add(LSTM(256, dropout=0.5, recurrent_dropout=0.5, return_sequences=True, kernel_regularizer=l2(0.001), recurrent_regularizer=l2(0.001)))\n",
        "model.add(LSTM(128, dropout=0.5, recurrent_dropout=0.5, kernel_regularizer=l2(0.001), recurrent_regularizer=l2(0.001)))\n",
        "model.add(Dense(256, activation='relu', kernel_regularizer=l2(0.001)))\n",
        "model.add(Dropout(0.5))\n",
        "model.add(Dense(num_classes, activation='softmax'))"
      ]
    },
    {
      "cell_type": "code",
      "execution_count": null,
      "metadata": {
        "id": "0cLjGhBY_Hjb"
      },
      "outputs": [],
      "source": [
        "model.compile(loss='categorical_crossentropy', optimizer='adam', metrics=['accuracy'])"
      ]
    },
    {
      "cell_type": "code",
      "execution_count": null,
      "metadata": {
        "colab": {
          "base_uri": "https://localhost:8080/"
        },
        "id": "AQqZ53cm9kkz",
        "outputId": "2dfbec28-733b-4407-8cff-5488e691340b"
      },
      "outputs": [
        {
          "output_type": "stream",
          "name": "stdout",
          "text": [
            "Epoch 1/20\n",
            "75/75 [==============================] - 34s 325ms/step - loss: 3.9323 - accuracy: 0.1697 - val_loss: 3.3620 - val_accuracy: 0.2074\n",
            "Epoch 2/20\n",
            "75/75 [==============================] - 20s 273ms/step - loss: 3.3028 - accuracy: 0.1806 - val_loss: 3.1353 - val_accuracy: 0.2074\n",
            "Epoch 3/20\n",
            "75/75 [==============================] - 17s 230ms/step - loss: 3.1694 - accuracy: 0.1844 - val_loss: 3.0528 - val_accuracy: 0.2074\n",
            "Epoch 4/20\n",
            "75/75 [==============================] - 19s 255ms/step - loss: 3.1087 - accuracy: 0.1844 - val_loss: 3.0359 - val_accuracy: 0.2074\n",
            "Epoch 5/20\n",
            "75/75 [==============================] - 20s 259ms/step - loss: 3.0681 - accuracy: 0.1844 - val_loss: 3.0066 - val_accuracy: 0.2074\n",
            "Epoch 6/20\n",
            "75/75 [==============================] - 17s 230ms/step - loss: 3.0024 - accuracy: 0.1844 - val_loss: 2.8547 - val_accuracy: 0.2174\n",
            "Epoch 7/20\n",
            "75/75 [==============================] - 17s 226ms/step - loss: 2.7646 - accuracy: 0.2542 - val_loss: 2.7805 - val_accuracy: 0.2926\n",
            "Epoch 8/20\n",
            "75/75 [==============================] - 20s 261ms/step - loss: 2.6422 - accuracy: 0.2847 - val_loss: 2.6355 - val_accuracy: 0.3328\n",
            "Epoch 9/20\n",
            "75/75 [==============================] - 19s 259ms/step - loss: 2.5586 - accuracy: 0.3006 - val_loss: 2.6262 - val_accuracy: 0.3043\n",
            "Epoch 10/20\n",
            "75/75 [==============================] - 18s 242ms/step - loss: 2.5009 - accuracy: 0.3135 - val_loss: 2.5900 - val_accuracy: 0.3261\n",
            "Epoch 11/20\n",
            "75/75 [==============================] - 19s 258ms/step - loss: 2.4535 - accuracy: 0.3315 - val_loss: 2.5835 - val_accuracy: 0.2926\n",
            "Epoch 12/20\n",
            "75/75 [==============================] - 17s 233ms/step - loss: 2.4066 - accuracy: 0.3499 - val_loss: 2.5558 - val_accuracy: 0.3194\n",
            "Epoch 13/20\n",
            "75/75 [==============================] - 18s 235ms/step - loss: 2.3757 - accuracy: 0.3512 - val_loss: 2.5811 - val_accuracy: 0.3227\n",
            "Epoch 14/20\n",
            "75/75 [==============================] - 19s 259ms/step - loss: 2.3448 - accuracy: 0.3595 - val_loss: 2.5941 - val_accuracy: 0.3227\n",
            "Epoch 15/20\n",
            "75/75 [==============================] - 17s 232ms/step - loss: 2.3441 - accuracy: 0.3533 - val_loss: 2.5507 - val_accuracy: 0.3094\n",
            "Epoch 16/20\n",
            "75/75 [==============================] - 17s 231ms/step - loss: 2.3144 - accuracy: 0.3516 - val_loss: 2.5388 - val_accuracy: 0.3177\n",
            "Epoch 17/20\n",
            "75/75 [==============================] - 19s 255ms/step - loss: 2.2811 - accuracy: 0.3675 - val_loss: 2.5407 - val_accuracy: 0.3161\n",
            "Epoch 18/20\n",
            "75/75 [==============================] - 17s 232ms/step - loss: 2.2688 - accuracy: 0.3658 - val_loss: 2.5416 - val_accuracy: 0.3094\n",
            "Epoch 19/20\n",
            "75/75 [==============================] - 18s 235ms/step - loss: 2.2783 - accuracy: 0.3650 - val_loss: 2.5375 - val_accuracy: 0.3060\n",
            "Epoch 20/20\n",
            "75/75 [==============================] - 21s 284ms/step - loss: 2.2532 - accuracy: 0.3599 - val_loss: 2.5960 - val_accuracy: 0.3194\n"
          ]
        },
        {
          "output_type": "execute_result",
          "data": {
            "text/plain": [
              "<keras.callbacks.History at 0x7f5e3c547cd0>"
            ]
          },
          "metadata": {},
          "execution_count": 21
        }
      ],
      "source": [
        "model.fit(train_data, train_labels, epochs=20, batch_size=32, validation_data=(test_data, test_labels))"
      ]
    },
    {
      "cell_type": "markdown",
      "metadata": {
        "id": "CFUt279F-uxw"
      },
      "source": [
        "Evaluate Model"
      ]
    },
    {
      "cell_type": "code",
      "execution_count": null,
      "metadata": {
        "colab": {
          "base_uri": "https://localhost:8080/"
        },
        "id": "zqvThuwEjBrv",
        "outputId": "8cdfd9c8-4cf3-49c7-eb6a-d760e12d99e7"
      },
      "outputs": [
        {
          "output_type": "stream",
          "name": "stdout",
          "text": [
            "Test Loss: 2.5960206985473633\n",
            "Test Accuracy: 0.3193979859352112\n"
          ]
        }
      ],
      "source": [
        "test_labels = to_categorical(test_df['encoded_job'], num_classes)\n",
        "loss, accuracy = model.evaluate(test_data, test_labels, verbose=0)\n",
        "print('Test Loss:', loss)\n",
        "print('Test Accuracy:', accuracy)"
      ]
    },
    {
      "cell_type": "markdown",
      "metadata": {
        "id": "HyrkSEdzCDM-"
      },
      "source": [
        "Recommendation"
      ]
    },
    {
      "cell_type": "code",
      "execution_count": null,
      "metadata": {
        "colab": {
          "base_uri": "https://localhost:8080/"
        },
        "id": "Ujmpii04B_OY",
        "outputId": "ea9f2a27-753d-41a0-8e50-ca53ddc01961"
      },
      "outputs": [
        {
          "metadata": {
            "tags": null
          },
          "name": "stdout",
          "output_type": "stream",
          "text": [
            "=== Job Recommendation Chatbot ===\n",
            "Hi! Welcome to the Job Recommendation Chatbot.\n",
            "Please enter one of the following job labels:\n",
            "journalist\n",
            "designer\n",
            "accountant\n",
            "economist\n",
            "politician\n",
            "historian\n",
            "diplomat\n",
            "public relations specialist\n",
            "marketer\n",
            "sociologist\n",
            "lawyer\n",
            "supply chain manager\n",
            "insurance solicitor\n",
            "human resources generalist\n",
            "researcher\n",
            "consultant\n",
            "professor\n",
            "director\n",
            "entrepreneur\n",
            "therapist\n",
            "interpreter\n",
            "copywriter\n",
            "finance officer\n",
            "project manager\n",
            "engineer\n",
            "bank staff\n",
            "bureaucrat\n",
            "cyber security\n",
            "architect\n",
            "real estate\n",
            "hotel staff\n"
          ]
        }
      ],
      "source": [
        "unique_job_labels = set(df_combined['Job Label'].str.lower().str.strip()) - {'nan'}\n",
        "\n",
        "print('=== Job Recommendation Chatbot ===')\n",
        "print('Hi! Welcome to the Job Recommendation Chatbot.')\n",
        "print('Please enter one of the following job labels:')\n",
        "\n",
        "for job_label in unique_job_labels:\n",
        "    print(job_label)\n",
        "\n",
        "user_job = input('Enter your job label (or type \"exit\" to quit): ').lower()\n",
        "\n",
        "if user_job == 'exit':\n",
        "    print('Thank you for using the Job Recommendation Chatbot. Goodbye!')\n",
        "else:\n",
        "    while True:\n",
        "        if user_job not in unique_job_labels:\n",
        "            print('Invalid job label. Please enter a valid job label from the list.')\n",
        "        else:\n",
        "            encoded_job = encoder.transform([user_job])\n",
        "            prediction = model.predict(pad_sequences([encoded_job], maxlen=max_sequence_length))\n",
        "            predicted_class = prediction.argmax(axis=1)\n",
        "            recommended_courses = df_combined.loc[df_combined['encoded_job'] == encoded_job[0], ['Course Name', 'Unit']]\n",
        "\n",
        "            if recommended_courses.empty:\n",
        "                print('No recommended courses found for the given job label.')\n",
        "            else:\n",
        "                random_courses = random.sample(recommended_courses.values.tolist(), k=15)\n",
        "                print('Recommended Courses:')\n",
        "                for course, unit in random_courses:\n",
        "                    print(f'{course} ({unit})')\n",
        "\n",
        "        user_job = input('Enter your job label (or type \"exit\" to quit): ').lower()\n",
        "\n",
        "        if user_job == 'exit':\n",
        "            print('Thank you for using the Job Recommendation Chatbot. Goodbye!')\n",
        "            break\n"
      ]
    }
  ],
  "metadata": {
    "accelerator": "GPU",
    "colab": {
      "provenance": []
    },
    "kernelspec": {
      "display_name": "Python 3",
      "name": "python3"
    },
    "language_info": {
      "name": "python"
    }
  },
  "nbformat": 4,
  "nbformat_minor": 0
}