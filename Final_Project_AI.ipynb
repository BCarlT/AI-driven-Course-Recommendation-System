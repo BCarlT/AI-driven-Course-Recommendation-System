{
  "cells": [
    {
      "cell_type": "code",
      "execution_count": null,
      "metadata": {
        "id": "pBHmACQ3DEQ2"
      },
      "outputs": [],
      "source": [
        "import pandas as pd\n",
        "import numpy as np\n",
        "import random\n",
        "from sklearn.model_selection import train_test_split\n",
        "from sklearn.preprocessing import LabelEncoder\n",
        "from tensorflow.keras.preprocessing.sequence import pad_sequences\n",
        "from tensorflow.keras.models import Sequential\n",
        "from tensorflow.keras.layers import Dense, Embedding, LSTM, Dropout\n",
        "from tensorflow.keras.optimizers import Adam\n",
        "from keras.utils import to_categorical\n",
        "from tensorflow.keras.preprocessing.text import Tokenizer\n",
        "from keras.regularizers import l2"
      ]
    },
    {
      "cell_type": "markdown",
      "metadata": {
        "id": "d1N_DK7WXsFa"
      },
      "source": [
        "Prepare the Dataset"
      ]
    },
    {
      "cell_type": "code",
      "execution_count": null,
      "metadata": {
        "id": "rG9Optzy1W_0"
      },
      "outputs": [],
      "source": [
        "from google.colab import drive"
      ]
    },
    {
      "cell_type": "code",
      "execution_count": null,
      "metadata": {
        "colab": {
          "base_uri": "https://localhost:8080/"
        },
        "id": "8sk9MmC81ZNk",
        "outputId": "0cbf7ee9-5e55-40a8-9927-d69e117b52d5"
      },
      "outputs": [
        {
          "output_type": "stream",
          "name": "stdout",
          "text": [
            "Drive already mounted at /content/gdrive; to attempt to forcibly remount, call drive.mount(\"/content/gdrive\", force_remount=True).\n"
          ]
        }
      ],
      "source": [
        "drive.mount('/content/gdrive')"
      ]
    },
    {
      "cell_type": "code",
      "execution_count": null,
      "metadata": {
        "id": "-WJ8-1ZB1cM_"
      },
      "outputs": [],
      "source": [
        "filepath_2023 = \"/content/gdrive/MyDrive/Colab Notebooks/data/2023 S_S COURSE.xlsx\"\n",
        "filepath_2022 = \"/content/gdrive/MyDrive/Colab Notebooks/data/2022 F_S COURSE.xlsx\""
      ]
    },
    {
      "cell_type": "code",
      "execution_count": null,
      "metadata": {
        "id": "s90YhwAe2Bjx"
      },
      "outputs": [],
      "source": [
        "df = pd.read_excel(filepath_2023)\n",
        "df1 = pd.read_excel(filepath_2022)"
      ]
    },
    {
      "cell_type": "code",
      "execution_count": null,
      "metadata": {
        "colab": {
          "base_uri": "https://localhost:8080/",
          "height": 424
        },
        "id": "dQF0EMx62ywh",
        "outputId": "852fbe2c-9a21-410a-94ec-6938f95f81f4"
      },
      "outputs": [
        {
          "output_type": "execute_result",
          "data": {
            "text/plain": [
              "                                           Course Name  \\\n",
              "0                                    Political science   \n",
              "1                                    Political science   \n",
              "2                                            Economics   \n",
              "3                                            Economics   \n",
              "4                                            Economics   \n",
              "...                                                ...   \n",
              "1094                  Cultural Creativity Adding Value   \n",
              "1095                                Computer Animation   \n",
              "1096  Interaction Technologies Research and Discussion   \n",
              "1097       Artificial Intelligence and Digital Content   \n",
              "1098               Game Engine Application Development   \n",
              "\n",
              "                                      Unit        Job Label  \n",
              "0                        Political Science         Diplomat  \n",
              "1                        Political Science       Politician  \n",
              "2                                Economics       Bank Staff  \n",
              "3                                Economics        Economist  \n",
              "4                                Economics  Finance Officer  \n",
              "...                                    ...              ...  \n",
              "1094  Digital Content and Technologies/B/4         Engineer  \n",
              "1095  Digital Content and Technologies/B/4         Engineer  \n",
              "1096  Digital Content and Technologies/B/4         Engineer  \n",
              "1097  Digital Content and Technologies/B/4         Engineer  \n",
              "1098  Digital Content and Technologies/B/4         Engineer  \n",
              "\n",
              "[1099 rows x 3 columns]"
            ],
            "text/html": [
              "\n",
              "  <div id=\"df-4c6be04a-7b0f-445a-ae52-1e8dd957a070\">\n",
              "    <div class=\"colab-df-container\">\n",
              "      <div>\n",
              "<style scoped>\n",
              "    .dataframe tbody tr th:only-of-type {\n",
              "        vertical-align: middle;\n",
              "    }\n",
              "\n",
              "    .dataframe tbody tr th {\n",
              "        vertical-align: top;\n",
              "    }\n",
              "\n",
              "    .dataframe thead th {\n",
              "        text-align: right;\n",
              "    }\n",
              "</style>\n",
              "<table border=\"1\" class=\"dataframe\">\n",
              "  <thead>\n",
              "    <tr style=\"text-align: right;\">\n",
              "      <th></th>\n",
              "      <th>Course Name</th>\n",
              "      <th>Unit</th>\n",
              "      <th>Job Label</th>\n",
              "    </tr>\n",
              "  </thead>\n",
              "  <tbody>\n",
              "    <tr>\n",
              "      <th>0</th>\n",
              "      <td>Political science</td>\n",
              "      <td>Political Science</td>\n",
              "      <td>Diplomat</td>\n",
              "    </tr>\n",
              "    <tr>\n",
              "      <th>1</th>\n",
              "      <td>Political science</td>\n",
              "      <td>Political Science</td>\n",
              "      <td>Politician</td>\n",
              "    </tr>\n",
              "    <tr>\n",
              "      <th>2</th>\n",
              "      <td>Economics</td>\n",
              "      <td>Economics</td>\n",
              "      <td>Bank Staff</td>\n",
              "    </tr>\n",
              "    <tr>\n",
              "      <th>3</th>\n",
              "      <td>Economics</td>\n",
              "      <td>Economics</td>\n",
              "      <td>Economist</td>\n",
              "    </tr>\n",
              "    <tr>\n",
              "      <th>4</th>\n",
              "      <td>Economics</td>\n",
              "      <td>Economics</td>\n",
              "      <td>Finance Officer</td>\n",
              "    </tr>\n",
              "    <tr>\n",
              "      <th>...</th>\n",
              "      <td>...</td>\n",
              "      <td>...</td>\n",
              "      <td>...</td>\n",
              "    </tr>\n",
              "    <tr>\n",
              "      <th>1094</th>\n",
              "      <td>Cultural Creativity Adding Value</td>\n",
              "      <td>Digital Content and Technologies/B/4</td>\n",
              "      <td>Engineer</td>\n",
              "    </tr>\n",
              "    <tr>\n",
              "      <th>1095</th>\n",
              "      <td>Computer Animation</td>\n",
              "      <td>Digital Content and Technologies/B/4</td>\n",
              "      <td>Engineer</td>\n",
              "    </tr>\n",
              "    <tr>\n",
              "      <th>1096</th>\n",
              "      <td>Interaction Technologies Research and Discussion</td>\n",
              "      <td>Digital Content and Technologies/B/4</td>\n",
              "      <td>Engineer</td>\n",
              "    </tr>\n",
              "    <tr>\n",
              "      <th>1097</th>\n",
              "      <td>Artificial Intelligence and Digital Content</td>\n",
              "      <td>Digital Content and Technologies/B/4</td>\n",
              "      <td>Engineer</td>\n",
              "    </tr>\n",
              "    <tr>\n",
              "      <th>1098</th>\n",
              "      <td>Game Engine Application Development</td>\n",
              "      <td>Digital Content and Technologies/B/4</td>\n",
              "      <td>Engineer</td>\n",
              "    </tr>\n",
              "  </tbody>\n",
              "</table>\n",
              "<p>1099 rows × 3 columns</p>\n",
              "</div>\n",
              "      <button class=\"colab-df-convert\" onclick=\"convertToInteractive('df-4c6be04a-7b0f-445a-ae52-1e8dd957a070')\"\n",
              "              title=\"Convert this dataframe to an interactive table.\"\n",
              "              style=\"display:none;\">\n",
              "        \n",
              "  <svg xmlns=\"http://www.w3.org/2000/svg\" height=\"24px\"viewBox=\"0 0 24 24\"\n",
              "       width=\"24px\">\n",
              "    <path d=\"M0 0h24v24H0V0z\" fill=\"none\"/>\n",
              "    <path d=\"M18.56 5.44l.94 2.06.94-2.06 2.06-.94-2.06-.94-.94-2.06-.94 2.06-2.06.94zm-11 1L8.5 8.5l.94-2.06 2.06-.94-2.06-.94L8.5 2.5l-.94 2.06-2.06.94zm10 10l.94 2.06.94-2.06 2.06-.94-2.06-.94-.94-2.06-.94 2.06-2.06.94z\"/><path d=\"M17.41 7.96l-1.37-1.37c-.4-.4-.92-.59-1.43-.59-.52 0-1.04.2-1.43.59L10.3 9.45l-7.72 7.72c-.78.78-.78 2.05 0 2.83L4 21.41c.39.39.9.59 1.41.59.51 0 1.02-.2 1.41-.59l7.78-7.78 2.81-2.81c.8-.78.8-2.07 0-2.86zM5.41 20L4 18.59l7.72-7.72 1.47 1.35L5.41 20z\"/>\n",
              "  </svg>\n",
              "      </button>\n",
              "      \n",
              "  <style>\n",
              "    .colab-df-container {\n",
              "      display:flex;\n",
              "      flex-wrap:wrap;\n",
              "      gap: 12px;\n",
              "    }\n",
              "\n",
              "    .colab-df-convert {\n",
              "      background-color: #E8F0FE;\n",
              "      border: none;\n",
              "      border-radius: 50%;\n",
              "      cursor: pointer;\n",
              "      display: none;\n",
              "      fill: #1967D2;\n",
              "      height: 32px;\n",
              "      padding: 0 0 0 0;\n",
              "      width: 32px;\n",
              "    }\n",
              "\n",
              "    .colab-df-convert:hover {\n",
              "      background-color: #E2EBFA;\n",
              "      box-shadow: 0px 1px 2px rgba(60, 64, 67, 0.3), 0px 1px 3px 1px rgba(60, 64, 67, 0.15);\n",
              "      fill: #174EA6;\n",
              "    }\n",
              "\n",
              "    [theme=dark] .colab-df-convert {\n",
              "      background-color: #3B4455;\n",
              "      fill: #D2E3FC;\n",
              "    }\n",
              "\n",
              "    [theme=dark] .colab-df-convert:hover {\n",
              "      background-color: #434B5C;\n",
              "      box-shadow: 0px 1px 3px 1px rgba(0, 0, 0, 0.15);\n",
              "      filter: drop-shadow(0px 1px 2px rgba(0, 0, 0, 0.3));\n",
              "      fill: #FFFFFF;\n",
              "    }\n",
              "  </style>\n",
              "\n",
              "      <script>\n",
              "        const buttonEl =\n",
              "          document.querySelector('#df-4c6be04a-7b0f-445a-ae52-1e8dd957a070 button.colab-df-convert');\n",
              "        buttonEl.style.display =\n",
              "          google.colab.kernel.accessAllowed ? 'block' : 'none';\n",
              "\n",
              "        async function convertToInteractive(key) {\n",
              "          const element = document.querySelector('#df-4c6be04a-7b0f-445a-ae52-1e8dd957a070');\n",
              "          const dataTable =\n",
              "            await google.colab.kernel.invokeFunction('convertToInteractive',\n",
              "                                                     [key], {});\n",
              "          if (!dataTable) return;\n",
              "\n",
              "          const docLinkHtml = 'Like what you see? Visit the ' +\n",
              "            '<a target=\"_blank\" href=https://colab.research.google.com/notebooks/data_table.ipynb>data table notebook</a>'\n",
              "            + ' to learn more about interactive tables.';\n",
              "          element.innerHTML = '';\n",
              "          dataTable['output_type'] = 'display_data';\n",
              "          await google.colab.output.renderOutput(dataTable, element);\n",
              "          const docLink = document.createElement('div');\n",
              "          docLink.innerHTML = docLinkHtml;\n",
              "          element.appendChild(docLink);\n",
              "        }\n",
              "      </script>\n",
              "    </div>\n",
              "  </div>\n",
              "  "
            ]
          },
          "metadata": {},
          "execution_count": 25
        }
      ],
      "source": [
        "df"
      ]
    },
    {
      "cell_type": "code",
      "execution_count": null,
      "metadata": {
        "colab": {
          "base_uri": "https://localhost:8080/",
          "height": 424
        },
        "id": "_jgKxc25HJWJ",
        "outputId": "ecd4d4a6-099a-4696-c4d6-788a06e359e9"
      },
      "outputs": [
        {
          "output_type": "execute_result",
          "data": {
            "text/plain": [
              "         Course Name            Unit             Job Label\n",
              "0     Macroeconomics       Economics             Economist\n",
              "1     Macroeconomics       Economics  Supply Chain Manager\n",
              "2          Economics       Economics             Economist\n",
              "3          Economics       Economics  Supply Chain Manager\n",
              "4     Public Finance  Public Finance            Bank staff\n",
              "...              ...             ...                   ...\n",
              "2747             NaN             NaN                   NaN\n",
              "2748             NaN             NaN                   NaN\n",
              "2749             NaN             NaN                   NaN\n",
              "2750             NaN             NaN                   NaN\n",
              "2751        Engineer             NaN                   NaN\n",
              "\n",
              "[2752 rows x 3 columns]"
            ],
            "text/html": [
              "\n",
              "  <div id=\"df-635a4c9d-c03b-447f-b9f8-ca7f1b7a2850\">\n",
              "    <div class=\"colab-df-container\">\n",
              "      <div>\n",
              "<style scoped>\n",
              "    .dataframe tbody tr th:only-of-type {\n",
              "        vertical-align: middle;\n",
              "    }\n",
              "\n",
              "    .dataframe tbody tr th {\n",
              "        vertical-align: top;\n",
              "    }\n",
              "\n",
              "    .dataframe thead th {\n",
              "        text-align: right;\n",
              "    }\n",
              "</style>\n",
              "<table border=\"1\" class=\"dataframe\">\n",
              "  <thead>\n",
              "    <tr style=\"text-align: right;\">\n",
              "      <th></th>\n",
              "      <th>Course Name</th>\n",
              "      <th>Unit</th>\n",
              "      <th>Job Label</th>\n",
              "    </tr>\n",
              "  </thead>\n",
              "  <tbody>\n",
              "    <tr>\n",
              "      <th>0</th>\n",
              "      <td>Macroeconomics</td>\n",
              "      <td>Economics</td>\n",
              "      <td>Economist</td>\n",
              "    </tr>\n",
              "    <tr>\n",
              "      <th>1</th>\n",
              "      <td>Macroeconomics</td>\n",
              "      <td>Economics</td>\n",
              "      <td>Supply Chain Manager</td>\n",
              "    </tr>\n",
              "    <tr>\n",
              "      <th>2</th>\n",
              "      <td>Economics</td>\n",
              "      <td>Economics</td>\n",
              "      <td>Economist</td>\n",
              "    </tr>\n",
              "    <tr>\n",
              "      <th>3</th>\n",
              "      <td>Economics</td>\n",
              "      <td>Economics</td>\n",
              "      <td>Supply Chain Manager</td>\n",
              "    </tr>\n",
              "    <tr>\n",
              "      <th>4</th>\n",
              "      <td>Public Finance</td>\n",
              "      <td>Public Finance</td>\n",
              "      <td>Bank staff</td>\n",
              "    </tr>\n",
              "    <tr>\n",
              "      <th>...</th>\n",
              "      <td>...</td>\n",
              "      <td>...</td>\n",
              "      <td>...</td>\n",
              "    </tr>\n",
              "    <tr>\n",
              "      <th>2747</th>\n",
              "      <td>NaN</td>\n",
              "      <td>NaN</td>\n",
              "      <td>NaN</td>\n",
              "    </tr>\n",
              "    <tr>\n",
              "      <th>2748</th>\n",
              "      <td>NaN</td>\n",
              "      <td>NaN</td>\n",
              "      <td>NaN</td>\n",
              "    </tr>\n",
              "    <tr>\n",
              "      <th>2749</th>\n",
              "      <td>NaN</td>\n",
              "      <td>NaN</td>\n",
              "      <td>NaN</td>\n",
              "    </tr>\n",
              "    <tr>\n",
              "      <th>2750</th>\n",
              "      <td>NaN</td>\n",
              "      <td>NaN</td>\n",
              "      <td>NaN</td>\n",
              "    </tr>\n",
              "    <tr>\n",
              "      <th>2751</th>\n",
              "      <td>Engineer</td>\n",
              "      <td>NaN</td>\n",
              "      <td>NaN</td>\n",
              "    </tr>\n",
              "  </tbody>\n",
              "</table>\n",
              "<p>2752 rows × 3 columns</p>\n",
              "</div>\n",
              "      <button class=\"colab-df-convert\" onclick=\"convertToInteractive('df-635a4c9d-c03b-447f-b9f8-ca7f1b7a2850')\"\n",
              "              title=\"Convert this dataframe to an interactive table.\"\n",
              "              style=\"display:none;\">\n",
              "        \n",
              "  <svg xmlns=\"http://www.w3.org/2000/svg\" height=\"24px\"viewBox=\"0 0 24 24\"\n",
              "       width=\"24px\">\n",
              "    <path d=\"M0 0h24v24H0V0z\" fill=\"none\"/>\n",
              "    <path d=\"M18.56 5.44l.94 2.06.94-2.06 2.06-.94-2.06-.94-.94-2.06-.94 2.06-2.06.94zm-11 1L8.5 8.5l.94-2.06 2.06-.94-2.06-.94L8.5 2.5l-.94 2.06-2.06.94zm10 10l.94 2.06.94-2.06 2.06-.94-2.06-.94-.94-2.06-.94 2.06-2.06.94z\"/><path d=\"M17.41 7.96l-1.37-1.37c-.4-.4-.92-.59-1.43-.59-.52 0-1.04.2-1.43.59L10.3 9.45l-7.72 7.72c-.78.78-.78 2.05 0 2.83L4 21.41c.39.39.9.59 1.41.59.51 0 1.02-.2 1.41-.59l7.78-7.78 2.81-2.81c.8-.78.8-2.07 0-2.86zM5.41 20L4 18.59l7.72-7.72 1.47 1.35L5.41 20z\"/>\n",
              "  </svg>\n",
              "      </button>\n",
              "      \n",
              "  <style>\n",
              "    .colab-df-container {\n",
              "      display:flex;\n",
              "      flex-wrap:wrap;\n",
              "      gap: 12px;\n",
              "    }\n",
              "\n",
              "    .colab-df-convert {\n",
              "      background-color: #E8F0FE;\n",
              "      border: none;\n",
              "      border-radius: 50%;\n",
              "      cursor: pointer;\n",
              "      display: none;\n",
              "      fill: #1967D2;\n",
              "      height: 32px;\n",
              "      padding: 0 0 0 0;\n",
              "      width: 32px;\n",
              "    }\n",
              "\n",
              "    .colab-df-convert:hover {\n",
              "      background-color: #E2EBFA;\n",
              "      box-shadow: 0px 1px 2px rgba(60, 64, 67, 0.3), 0px 1px 3px 1px rgba(60, 64, 67, 0.15);\n",
              "      fill: #174EA6;\n",
              "    }\n",
              "\n",
              "    [theme=dark] .colab-df-convert {\n",
              "      background-color: #3B4455;\n",
              "      fill: #D2E3FC;\n",
              "    }\n",
              "\n",
              "    [theme=dark] .colab-df-convert:hover {\n",
              "      background-color: #434B5C;\n",
              "      box-shadow: 0px 1px 3px 1px rgba(0, 0, 0, 0.15);\n",
              "      filter: drop-shadow(0px 1px 2px rgba(0, 0, 0, 0.3));\n",
              "      fill: #FFFFFF;\n",
              "    }\n",
              "  </style>\n",
              "\n",
              "      <script>\n",
              "        const buttonEl =\n",
              "          document.querySelector('#df-635a4c9d-c03b-447f-b9f8-ca7f1b7a2850 button.colab-df-convert');\n",
              "        buttonEl.style.display =\n",
              "          google.colab.kernel.accessAllowed ? 'block' : 'none';\n",
              "\n",
              "        async function convertToInteractive(key) {\n",
              "          const element = document.querySelector('#df-635a4c9d-c03b-447f-b9f8-ca7f1b7a2850');\n",
              "          const dataTable =\n",
              "            await google.colab.kernel.invokeFunction('convertToInteractive',\n",
              "                                                     [key], {});\n",
              "          if (!dataTable) return;\n",
              "\n",
              "          const docLinkHtml = 'Like what you see? Visit the ' +\n",
              "            '<a target=\"_blank\" href=https://colab.research.google.com/notebooks/data_table.ipynb>data table notebook</a>'\n",
              "            + ' to learn more about interactive tables.';\n",
              "          element.innerHTML = '';\n",
              "          dataTable['output_type'] = 'display_data';\n",
              "          await google.colab.output.renderOutput(dataTable, element);\n",
              "          const docLink = document.createElement('div');\n",
              "          docLink.innerHTML = docLinkHtml;\n",
              "          element.appendChild(docLink);\n",
              "        }\n",
              "      </script>\n",
              "    </div>\n",
              "  </div>\n",
              "  "
            ]
          },
          "metadata": {},
          "execution_count": 26
        }
      ],
      "source": [
        "df1"
      ]
    },
    {
      "cell_type": "code",
      "execution_count": null,
      "metadata": {
        "id": "AsKEU2ew7QpR"
      },
      "outputs": [],
      "source": [
        "df_combined = pd.concat([df[['Job Label', 'Course Name', 'Unit']], df1[['Job Label', 'Course Name', 'Unit']]])"
      ]
    },
    {
      "cell_type": "code",
      "execution_count": null,
      "metadata": {
        "id": "YsvX_f5qDa62"
      },
      "outputs": [],
      "source": [
        "df_combined['Course Name'] = df_combined['Course Name'].str.lower()\n",
        "df_combined['Job Label'] = df_combined['Job Label'].str.lower()"
      ]
    },
    {
      "cell_type": "code",
      "execution_count": null,
      "metadata": {
        "colab": {
          "base_uri": "https://localhost:8080/",
          "height": 424
        },
        "id": "WzvQ5cHTf59r",
        "outputId": "731d74cc-b7cb-4b2d-a70b-41c12d2edcfd"
      },
      "outputs": [
        {
          "output_type": "execute_result",
          "data": {
            "text/plain": [
              "            Job Label        Course Name               Unit\n",
              "0            diplomat  political science  Political Science\n",
              "1          politician  political science  Political Science\n",
              "2          bank staff          economics          Economics\n",
              "3           economist          economics          Economics\n",
              "4     finance officer          economics          Economics\n",
              "...               ...                ...                ...\n",
              "2747              NaN                NaN                NaN\n",
              "2748              NaN                NaN                NaN\n",
              "2749              NaN                NaN                NaN\n",
              "2750              NaN                NaN                NaN\n",
              "2751              NaN           engineer                NaN\n",
              "\n",
              "[3851 rows x 3 columns]"
            ],
            "text/html": [
              "\n",
              "  <div id=\"df-d3ccaa4b-517a-43f4-816d-c90b5d25be2d\">\n",
              "    <div class=\"colab-df-container\">\n",
              "      <div>\n",
              "<style scoped>\n",
              "    .dataframe tbody tr th:only-of-type {\n",
              "        vertical-align: middle;\n",
              "    }\n",
              "\n",
              "    .dataframe tbody tr th {\n",
              "        vertical-align: top;\n",
              "    }\n",
              "\n",
              "    .dataframe thead th {\n",
              "        text-align: right;\n",
              "    }\n",
              "</style>\n",
              "<table border=\"1\" class=\"dataframe\">\n",
              "  <thead>\n",
              "    <tr style=\"text-align: right;\">\n",
              "      <th></th>\n",
              "      <th>Job Label</th>\n",
              "      <th>Course Name</th>\n",
              "      <th>Unit</th>\n",
              "    </tr>\n",
              "  </thead>\n",
              "  <tbody>\n",
              "    <tr>\n",
              "      <th>0</th>\n",
              "      <td>diplomat</td>\n",
              "      <td>political science</td>\n",
              "      <td>Political Science</td>\n",
              "    </tr>\n",
              "    <tr>\n",
              "      <th>1</th>\n",
              "      <td>politician</td>\n",
              "      <td>political science</td>\n",
              "      <td>Political Science</td>\n",
              "    </tr>\n",
              "    <tr>\n",
              "      <th>2</th>\n",
              "      <td>bank staff</td>\n",
              "      <td>economics</td>\n",
              "      <td>Economics</td>\n",
              "    </tr>\n",
              "    <tr>\n",
              "      <th>3</th>\n",
              "      <td>economist</td>\n",
              "      <td>economics</td>\n",
              "      <td>Economics</td>\n",
              "    </tr>\n",
              "    <tr>\n",
              "      <th>4</th>\n",
              "      <td>finance officer</td>\n",
              "      <td>economics</td>\n",
              "      <td>Economics</td>\n",
              "    </tr>\n",
              "    <tr>\n",
              "      <th>...</th>\n",
              "      <td>...</td>\n",
              "      <td>...</td>\n",
              "      <td>...</td>\n",
              "    </tr>\n",
              "    <tr>\n",
              "      <th>2747</th>\n",
              "      <td>NaN</td>\n",
              "      <td>NaN</td>\n",
              "      <td>NaN</td>\n",
              "    </tr>\n",
              "    <tr>\n",
              "      <th>2748</th>\n",
              "      <td>NaN</td>\n",
              "      <td>NaN</td>\n",
              "      <td>NaN</td>\n",
              "    </tr>\n",
              "    <tr>\n",
              "      <th>2749</th>\n",
              "      <td>NaN</td>\n",
              "      <td>NaN</td>\n",
              "      <td>NaN</td>\n",
              "    </tr>\n",
              "    <tr>\n",
              "      <th>2750</th>\n",
              "      <td>NaN</td>\n",
              "      <td>NaN</td>\n",
              "      <td>NaN</td>\n",
              "    </tr>\n",
              "    <tr>\n",
              "      <th>2751</th>\n",
              "      <td>NaN</td>\n",
              "      <td>engineer</td>\n",
              "      <td>NaN</td>\n",
              "    </tr>\n",
              "  </tbody>\n",
              "</table>\n",
              "<p>3851 rows × 3 columns</p>\n",
              "</div>\n",
              "      <button class=\"colab-df-convert\" onclick=\"convertToInteractive('df-d3ccaa4b-517a-43f4-816d-c90b5d25be2d')\"\n",
              "              title=\"Convert this dataframe to an interactive table.\"\n",
              "              style=\"display:none;\">\n",
              "        \n",
              "  <svg xmlns=\"http://www.w3.org/2000/svg\" height=\"24px\"viewBox=\"0 0 24 24\"\n",
              "       width=\"24px\">\n",
              "    <path d=\"M0 0h24v24H0V0z\" fill=\"none\"/>\n",
              "    <path d=\"M18.56 5.44l.94 2.06.94-2.06 2.06-.94-2.06-.94-.94-2.06-.94 2.06-2.06.94zm-11 1L8.5 8.5l.94-2.06 2.06-.94-2.06-.94L8.5 2.5l-.94 2.06-2.06.94zm10 10l.94 2.06.94-2.06 2.06-.94-2.06-.94-.94-2.06-.94 2.06-2.06.94z\"/><path d=\"M17.41 7.96l-1.37-1.37c-.4-.4-.92-.59-1.43-.59-.52 0-1.04.2-1.43.59L10.3 9.45l-7.72 7.72c-.78.78-.78 2.05 0 2.83L4 21.41c.39.39.9.59 1.41.59.51 0 1.02-.2 1.41-.59l7.78-7.78 2.81-2.81c.8-.78.8-2.07 0-2.86zM5.41 20L4 18.59l7.72-7.72 1.47 1.35L5.41 20z\"/>\n",
              "  </svg>\n",
              "      </button>\n",
              "      \n",
              "  <style>\n",
              "    .colab-df-container {\n",
              "      display:flex;\n",
              "      flex-wrap:wrap;\n",
              "      gap: 12px;\n",
              "    }\n",
              "\n",
              "    .colab-df-convert {\n",
              "      background-color: #E8F0FE;\n",
              "      border: none;\n",
              "      border-radius: 50%;\n",
              "      cursor: pointer;\n",
              "      display: none;\n",
              "      fill: #1967D2;\n",
              "      height: 32px;\n",
              "      padding: 0 0 0 0;\n",
              "      width: 32px;\n",
              "    }\n",
              "\n",
              "    .colab-df-convert:hover {\n",
              "      background-color: #E2EBFA;\n",
              "      box-shadow: 0px 1px 2px rgba(60, 64, 67, 0.3), 0px 1px 3px 1px rgba(60, 64, 67, 0.15);\n",
              "      fill: #174EA6;\n",
              "    }\n",
              "\n",
              "    [theme=dark] .colab-df-convert {\n",
              "      background-color: #3B4455;\n",
              "      fill: #D2E3FC;\n",
              "    }\n",
              "\n",
              "    [theme=dark] .colab-df-convert:hover {\n",
              "      background-color: #434B5C;\n",
              "      box-shadow: 0px 1px 3px 1px rgba(0, 0, 0, 0.15);\n",
              "      filter: drop-shadow(0px 1px 2px rgba(0, 0, 0, 0.3));\n",
              "      fill: #FFFFFF;\n",
              "    }\n",
              "  </style>\n",
              "\n",
              "      <script>\n",
              "        const buttonEl =\n",
              "          document.querySelector('#df-d3ccaa4b-517a-43f4-816d-c90b5d25be2d button.colab-df-convert');\n",
              "        buttonEl.style.display =\n",
              "          google.colab.kernel.accessAllowed ? 'block' : 'none';\n",
              "\n",
              "        async function convertToInteractive(key) {\n",
              "          const element = document.querySelector('#df-d3ccaa4b-517a-43f4-816d-c90b5d25be2d');\n",
              "          const dataTable =\n",
              "            await google.colab.kernel.invokeFunction('convertToInteractive',\n",
              "                                                     [key], {});\n",
              "          if (!dataTable) return;\n",
              "\n",
              "          const docLinkHtml = 'Like what you see? Visit the ' +\n",
              "            '<a target=\"_blank\" href=https://colab.research.google.com/notebooks/data_table.ipynb>data table notebook</a>'\n",
              "            + ' to learn more about interactive tables.';\n",
              "          element.innerHTML = '';\n",
              "          dataTable['output_type'] = 'display_data';\n",
              "          await google.colab.output.renderOutput(dataTable, element);\n",
              "          const docLink = document.createElement('div');\n",
              "          docLink.innerHTML = docLinkHtml;\n",
              "          element.appendChild(docLink);\n",
              "        }\n",
              "      </script>\n",
              "    </div>\n",
              "  </div>\n",
              "  "
            ]
          },
          "metadata": {},
          "execution_count": 29
        }
      ],
      "source": [
        "df_combined"
      ]
    },
    {
      "cell_type": "markdown",
      "metadata": {
        "id": "z_7rJMX95VF7"
      },
      "source": [
        "Data Processing"
      ]
    },
    {
      "cell_type": "code",
      "execution_count": null,
      "metadata": {
        "id": "43pLTI7dmFV6"
      },
      "outputs": [],
      "source": [
        "encoder = LabelEncoder()\n",
        "df_combined['encoded_job'] = encoder.fit_transform(df_combined['Job Label'])\n",
        "num_classes = len(encoder.classes_)"
      ]
    },
    {
      "cell_type": "code",
      "execution_count": null,
      "metadata": {
        "id": "VHElZvYe0AFl"
      },
      "outputs": [],
      "source": [
        "train_df, test_df = train_test_split(df_combined, test_size=0.2, random_state=42)"
      ]
    },
    {
      "cell_type": "code",
      "execution_count": null,
      "metadata": {
        "id": "RMaFJYnsnykV"
      },
      "outputs": [],
      "source": [
        "train_df['Course Name'] = train_df['Course Name'].astype(str)\n",
        "test_df['Course Name'] = test_df['Course Name'].astype(str)"
      ]
    },
    {
      "cell_type": "code",
      "execution_count": null,
      "metadata": {
        "id": "WzBdlDzyA7kX"
      },
      "outputs": [],
      "source": [
        "tokenizer = Tokenizer()\n",
        "tokenizer.fit_on_texts(train_df['Course Name'])\n",
        "vocab_size = len(tokenizer.word_index) + 1"
      ]
    },
    {
      "cell_type": "code",
      "execution_count": null,
      "metadata": {
        "id": "-um4Ocpu8b2H"
      },
      "outputs": [],
      "source": [
        "train_sequences = tokenizer.texts_to_sequences(train_df['Course Name'])\n",
        "test_sequences = tokenizer.texts_to_sequences(test_df['Course Name'])"
      ]
    },
    {
      "cell_type": "code",
      "execution_count": null,
      "metadata": {
        "id": "EggcALtW8uK7"
      },
      "outputs": [],
      "source": [
        "max_sequence_length = max(len(seq) for seq in train_sequences)\n",
        "train_data = pad_sequences(train_sequences, maxlen=max_sequence_length)\n",
        "test_data = pad_sequences(test_sequences, maxlen=max_sequence_length)"
      ]
    },
    {
      "cell_type": "code",
      "execution_count": null,
      "metadata": {
        "id": "5jm7jE76Bkc0"
      },
      "outputs": [],
      "source": [
        "num_features = max_sequence_length\n",
        "num_classes = len(df_combined['Course Name'].unique())"
      ]
    },
    {
      "cell_type": "code",
      "execution_count": null,
      "metadata": {
        "id": "aT5Nrul3_bCS"
      },
      "outputs": [],
      "source": [
        "num_classes = len(encoder.classes_)\n",
        "train_labels = to_categorical(train_df['encoded_job'], num_classes=num_classes)\n",
        "test_labels = to_categorical(test_df['encoded_job'], num_classes=num_classes)"
      ]
    },
    {
      "cell_type": "markdown",
      "metadata": {
        "id": "HgtLvv6d7kwM"
      },
      "source": [
        "Build DNN Model"
      ]
    },
    {
      "cell_type": "code",
      "execution_count": null,
      "metadata": {
        "colab": {
          "base_uri": "https://localhost:8080/"
        },
        "id": "tomQ2kB17i09",
        "outputId": "1dce839f-c086-41bd-e8c6-00258dff23aa"
      },
      "outputs": [
        {
          "output_type": "stream",
          "name": "stderr",
          "text": [
            "WARNING:tensorflow:Layer lstm_3 will not use cuDNN kernels since it doesn't meet the criteria. It will use a generic GPU kernel as fallback when running on GPU.\n",
            "WARNING:tensorflow:Layer lstm_4 will not use cuDNN kernels since it doesn't meet the criteria. It will use a generic GPU kernel as fallback when running on GPU.\n",
            "WARNING:tensorflow:Layer lstm_5 will not use cuDNN kernels since it doesn't meet the criteria. It will use a generic GPU kernel as fallback when running on GPU.\n"
          ]
        }
      ],
      "source": [
        "model = Sequential()\n",
        "model.add(Embedding(vocab_size, 128, input_length=max_sequence_length))\n",
        "model.add(LSTM(256, dropout=0.5, recurrent_dropout=0.5, return_sequences=True, kernel_regularizer=l2(0.001), recurrent_regularizer=l2(0.001)))\n",
        "model.add(LSTM(256, dropout=0.5, recurrent_dropout=0.5, return_sequences=True, kernel_regularizer=l2(0.001), recurrent_regularizer=l2(0.001)))\n",
        "model.add(LSTM(128, dropout=0.5, recurrent_dropout=0.5, kernel_regularizer=l2(0.001), recurrent_regularizer=l2(0.001)))\n",
        "model.add(Dense(256, activation='relu', kernel_regularizer=l2(0.001)))\n",
        "model.add(Dropout(0.5))\n",
        "model.add(Dense(num_classes, activation='softmax'))"
      ]
    },
    {
      "cell_type": "code",
      "execution_count": null,
      "metadata": {
        "id": "0cLjGhBY_Hjb"
      },
      "outputs": [],
      "source": [
        "model.compile(loss='categorical_crossentropy', optimizer='adam', metrics=['accuracy'])"
      ]
    },
    {
      "cell_type": "code",
      "execution_count": null,
      "metadata": {
        "colab": {
          "base_uri": "https://localhost:8080/"
        },
        "id": "AQqZ53cm9kkz",
        "outputId": "2d6759d6-960a-44a5-e7f9-6477d1fddd5c"
      },
      "outputs": [
        {
          "output_type": "stream",
          "name": "stdout",
          "text": [
            "Epoch 1/20\n",
            "97/97 [==============================] - 42s 320ms/step - loss: 3.4018 - accuracy: 0.3153 - val_loss: 2.7369 - val_accuracy: 0.3463\n",
            "Epoch 2/20\n",
            "97/97 [==============================] - 23s 233ms/step - loss: 2.6462 - accuracy: 0.3519 - val_loss: 2.1286 - val_accuracy: 0.4799\n",
            "Epoch 3/20\n",
            "97/97 [==============================] - 21s 221ms/step - loss: 2.0450 - accuracy: 0.4870 - val_loss: 1.8598 - val_accuracy: 0.5175\n",
            "Epoch 4/20\n",
            "97/97 [==============================] - 23s 238ms/step - loss: 1.8484 - accuracy: 0.5377 - val_loss: 1.7551 - val_accuracy: 0.5460\n",
            "Epoch 5/20\n",
            "97/97 [==============================] - 21s 221ms/step - loss: 1.7156 - accuracy: 0.5669 - val_loss: 1.6834 - val_accuracy: 0.5811\n",
            "Epoch 6/20\n",
            "97/97 [==============================] - 23s 234ms/step - loss: 1.6640 - accuracy: 0.5701 - val_loss: 1.6629 - val_accuracy: 0.5733\n",
            "Epoch 7/20\n",
            "97/97 [==============================] - 24s 244ms/step - loss: 1.5846 - accuracy: 0.5955 - val_loss: 1.6227 - val_accuracy: 0.5759\n",
            "Epoch 8/20\n",
            "97/97 [==============================] - 21s 217ms/step - loss: 1.5392 - accuracy: 0.6000 - val_loss: 1.6298 - val_accuracy: 0.5681\n",
            "Epoch 9/20\n",
            "97/97 [==============================] - 25s 255ms/step - loss: 1.5010 - accuracy: 0.5997 - val_loss: 1.5958 - val_accuracy: 0.5759\n",
            "Epoch 10/20\n",
            "97/97 [==============================] - 23s 233ms/step - loss: 1.4647 - accuracy: 0.6140 - val_loss: 1.6008 - val_accuracy: 0.5642\n",
            "Epoch 11/20\n",
            "97/97 [==============================] - 21s 213ms/step - loss: 1.4513 - accuracy: 0.6218 - val_loss: 1.5676 - val_accuracy: 0.5798\n",
            "Epoch 12/20\n",
            "97/97 [==============================] - 22s 232ms/step - loss: 1.4165 - accuracy: 0.6312 - val_loss: 1.5614 - val_accuracy: 0.5875\n",
            "Epoch 13/20\n",
            "97/97 [==============================] - 23s 243ms/step - loss: 1.3970 - accuracy: 0.6341 - val_loss: 1.5620 - val_accuracy: 0.5940\n",
            "Epoch 14/20\n",
            "97/97 [==============================] - 20s 211ms/step - loss: 1.3890 - accuracy: 0.6328 - val_loss: 1.5870 - val_accuracy: 0.5875\n",
            "Epoch 15/20\n",
            "97/97 [==============================] - 23s 234ms/step - loss: 1.3810 - accuracy: 0.6367 - val_loss: 1.5670 - val_accuracy: 0.5940\n",
            "Epoch 16/20\n",
            "97/97 [==============================] - 21s 217ms/step - loss: 1.3436 - accuracy: 0.6477 - val_loss: 1.5711 - val_accuracy: 0.5824\n",
            "Epoch 17/20\n",
            "97/97 [==============================] - 22s 228ms/step - loss: 1.3466 - accuracy: 0.6396 - val_loss: 1.5584 - val_accuracy: 0.5837\n",
            "Epoch 18/20\n",
            "97/97 [==============================] - 22s 232ms/step - loss: 1.3276 - accuracy: 0.6471 - val_loss: 1.5522 - val_accuracy: 0.5850\n",
            "Epoch 19/20\n",
            "97/97 [==============================] - 21s 213ms/step - loss: 1.3259 - accuracy: 0.6435 - val_loss: 1.5859 - val_accuracy: 0.5901\n",
            "Epoch 20/20\n",
            "97/97 [==============================] - 23s 235ms/step - loss: 1.3098 - accuracy: 0.6471 - val_loss: 1.5745 - val_accuracy: 0.5875\n"
          ]
        },
        {
          "output_type": "execute_result",
          "data": {
            "text/plain": [
              "<keras.callbacks.History at 0x7f4720165db0>"
            ]
          },
          "metadata": {},
          "execution_count": 40
        }
      ],
      "source": [
        "model.fit(train_data, train_labels, epochs=20, batch_size=32, validation_data=(test_data, test_labels))"
      ]
    },
    {
      "cell_type": "markdown",
      "metadata": {
        "id": "CFUt279F-uxw"
      },
      "source": [
        "Evaluate Model"
      ]
    },
    {
      "cell_type": "code",
      "execution_count": null,
      "metadata": {
        "colab": {
          "base_uri": "https://localhost:8080/"
        },
        "id": "zqvThuwEjBrv",
        "outputId": "ed1144dd-970a-4258-9f69-d7410da517d2"
      },
      "outputs": [
        {
          "output_type": "stream",
          "name": "stdout",
          "text": [
            "Test Loss: 1.5745317935943604\n",
            "Test Accuracy: 0.5875486135482788\n"
          ]
        }
      ],
      "source": [
        "test_labels = to_categorical(test_df['encoded_job'], num_classes)\n",
        "loss, accuracy = model.evaluate(test_data, test_labels, verbose=0)\n",
        "print('Test Loss:', loss)\n",
        "print('Test Accuracy:', accuracy)"
      ]
    },
    {
      "cell_type": "markdown",
      "metadata": {
        "id": "HyrkSEdzCDM-"
      },
      "source": [
        "Recommendation"
      ]
    },
    {
      "cell_type": "code",
      "execution_count": null,
      "metadata": {
        "colab": {
          "base_uri": "https://localhost:8080/"
        },
        "id": "Ujmpii04B_OY",
        "outputId": "84d034f3-daaa-44c2-efe6-9166d44a43dc"
      },
      "outputs": [
        {
          "output_type": "stream",
          "name": "stdout",
          "text": [
            "=== Job Recommendation Chatbot ===\n",
            "Hi! Welcome to the Job Recommendation Chatbot.\n",
            "Please enter one of the following job labels:\n",
            "project manager\n",
            "finance officer\n",
            "human resources generalist\n",
            "consultant\n",
            "interpreter\n",
            "real estate\n",
            "architect\n",
            "journalist\n",
            "sociologist\n",
            "politician\n",
            "insurance solicitor\n",
            "public relations specialist\n",
            "designer\n",
            "accountant\n",
            "lawyer\n",
            "bureaucrat\n",
            "historian\n",
            "bank staff\n",
            "copywriter\n",
            "professor\n",
            "researcher\n",
            "cyber security\n",
            "hotel staff\n",
            "therapist\n",
            "entrepreneur\n",
            "supply chain manager\n",
            "marketer\n",
            "director\n",
            "engineer\n",
            "diplomat\n",
            "economist\n",
            "Enter your job label (or type \"exit\" to quit): director\n",
            "1/1 [==============================] - 0s 47ms/step\n",
            "Recommended Courses:\n",
            "film & tv scriptwriting (Radio & Television/B/3)\n",
            "media innovation and business model (Radio & Television/B/3)\n",
            "animation basics and production (Radio & Television/B/3)\n",
            "news reporting and writing (Undeclared Major in College of Communication/B/1)\n",
            "audio-visual production basics (Undeclared Major in College of Communication/B/1)\n",
            "video compression (Computer Science/B/3&4)\n",
            "television cultures (Journalism/B/3)\n",
            "film writing & directing (Radio & Television/B/3)\n",
            "ecosystem for movies and television tech industry (Undeclared Major in College of Communication/B/2)\n",
            "movie review writing (Chinese Literature/B/3)\n",
            "film criticism (Radio & Television/B/3)\n",
            "tv news production and broadcast (Journalism/B/3)\n",
            "advanced tv production—lifestyle program (Radio & Television/B/3)\n",
            "movie and international relations (International Relation(Common Course))\n",
            "advanced tv production－documentary (Radio & Television/B/3)\n"
          ]
        }
      ],
      "source": [
        "unique_job_labels = set(df_combined['Job Label'].str.lower().str.strip()) - {'nan'}\n",
        "\n",
        "print('=== Job Recommendation Chatbot ===')\n",
        "print('Hi! Welcome to the Job Recommendation Chatbot.')\n",
        "print('Please enter one of the following job labels:')\n",
        "\n",
        "for job_label in unique_job_labels:\n",
        "    print(job_label)\n",
        "\n",
        "user_job = input('Enter your job label (or type \"exit\" to quit): ').lower()\n",
        "\n",
        "if user_job == 'exit':\n",
        "    print('Thank you for using the Job Recommendation Chatbot. Goodbye!')\n",
        "else:\n",
        "    while True:\n",
        "        if user_job not in unique_job_labels:\n",
        "            print('Invalid job label. Please enter a valid job label from the list.')\n",
        "        else:\n",
        "            encoded_job = encoder.transform([user_job])\n",
        "            prediction = model.predict(pad_sequences([encoded_job], maxlen=max_sequence_length))\n",
        "            predicted_class = prediction.argmax(axis=1)\n",
        "            recommended_courses = df_combined.loc[df_combined['encoded_job'] == encoded_job[0], ['Course Name', 'Unit']]\n",
        "\n",
        "            if recommended_courses.empty:\n",
        "                print('No recommended courses found for the given job label.')\n",
        "            else:\n",
        "                random_courses = random.sample(recommended_courses.values.tolist(), k=15)\n",
        "                print('Recommended Courses:')\n",
        "                for course, unit in random_courses:\n",
        "                    print(f'{course} ({unit})')\n",
        "\n",
        "        user_job = input('Enter your job label (or type \"exit\" to quit): ').lower()\n",
        "\n",
        "        if user_job == 'exit':\n",
        "            print('Thank you for using the Job Recommendation Chatbot. Goodbye!')\n",
        "            break\n"
      ]
    }
  ],
  "metadata": {
    "accelerator": "GPU",
    "colab": {
      "provenance": []
    },
    "kernelspec": {
      "display_name": "Python 3",
      "name": "python3"
    },
    "language_info": {
      "name": "python"
    }
  },
  "nbformat": 4,
  "nbformat_minor": 0
}